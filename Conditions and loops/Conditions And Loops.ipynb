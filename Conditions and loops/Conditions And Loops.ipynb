{
 "cells": [
  {
   "cell_type": "markdown",
   "metadata": {},
   "source": [
    "# Program to find power of a number\n",
    "\n",
    "Write a program to find x to the power n (i.e., $x^n$). Take x and n from the user. You need to print the answer.\n",
    "##### Note: For this question, you can assume that 0 raised to the power of 0 is 1"
   ]
  },
  {
   "cell_type": "code",
   "execution_count": 22,
   "metadata": {},
   "outputs": [
    {
     "name": "stdout",
     "output_type": "stream",
     "text": [
      "3 4\n",
      "81\n"
     ]
    }
   ],
   "source": [
    "x,n=map(int,input().split(' '))\n",
    "pow=x**n\n",
    "print(pow)"
   ]
  },
  {
   "cell_type": "markdown",
   "metadata": {},
   "source": [
    "# Factorial of a Number\n",
    "Write a program to find the factorial of a number.\n",
    "Factorial of n is:<br>\n",
    "$n! = n * (n-1) * (n-2) * (n-3)....* 1$ <br>\n",
    "Output the factorial of 'n'. If it does not exist, output 'Error'."
   ]
  },
  {
   "cell_type": "code",
   "execution_count": 23,
   "metadata": {},
   "outputs": [
    {
     "name": "stdout",
     "output_type": "stream",
     "text": [
      "5\n",
      "120\n"
     ]
    }
   ],
   "source": [
    "n=int(input())\n",
    "fact=1\n",
    "if n<0:\n",
    "    print('Error')\n",
    "else:\n",
    "    for i in range(1,n+1):\n",
    "        fact*=i\n",
    "    print(fact)"
   ]
  },
  {
   "cell_type": "markdown",
   "metadata": {},
   "source": [
    "# Sum of Even Numbers\n",
    "Given a number N, print sum of all even numbers from 1 to N.\n",
    "\n",
    "### Input format\n",
    "Integer N\n",
    "\n",
    "### Output format\n",
    "Required sum\n",
    "\n",
    "### Sample input\n",
    "6\n",
    "\n",
    "### Sample output\n",
    "12\n"
   ]
  },
  {
   "cell_type": "code",
   "execution_count": 17,
   "metadata": {},
   "outputs": [
    {
     "name": "stdout",
     "output_type": "stream",
     "text": [
      "40\n",
      "420\n"
     ]
    }
   ],
   "source": [
    "#Code to find sum of even numbers\n",
    "\n",
    "n=int(input())\n",
    "sum=0\n",
    "i=2\n",
    "while i<=n:\n",
    "    sum=sum+i\n",
    "    i=i+2\n",
    "print(sum)"
   ]
  },
  {
   "cell_type": "markdown",
   "metadata": {},
   "source": [
    "# Sum of n numbers\n",
    "\n",
    "Given an integer n, find and print the sum of numbers from 1 to n.\n",
    "\n",
    "### Input format\n",
    "Integer N\n",
    "\n",
    "### Output format\n",
    "Sum\n",
    "\n",
    "### Constraints\n",
    "$1 <= n <= 100$\n",
    "\n",
    "### Sample input\n",
    "10\n",
    "\n",
    "### Sample output\n",
    "55\n"
   ]
  },
  {
   "cell_type": "code",
   "execution_count": 15,
   "metadata": {},
   "outputs": [
    {
     "name": "stdout",
     "output_type": "stream",
     "text": [
      "10\n",
      "55\n"
     ]
    }
   ],
   "source": [
    "n=int(input())\n",
    "sum=0\n",
    "i=1\n",
    "while i<=n:\n",
    "    sum=sum+i\n",
    "    i=i+1\n",
    "print(sum)\n"
   ]
  },
  {
   "cell_type": "markdown",
   "metadata": {},
   "source": [
    "# Check Number\n",
    "Given an integer n, find if n is positive, negative or 0.\n",
    "If n is positive, print \"Positive\"\n",
    "If n is negative, print \"Negative\"\n",
    "And if n is equal to 0, print \"Zero\".\n",
    "\n",
    "### Input format\n",
    "Integer N\n",
    "\n",
    "### Output format\n",
    "\"Positive\" or \"Negative\" or \"Zero\" (without double quotes)\n",
    "\n",
    "### Constraints\n",
    "$-100 <= n <= 100$\n",
    "\n",
    "### Sample input-1\n",
    "10\n",
    "\n",
    "### Sample output-1\n",
    "Positive\n",
    "\n",
    "### Sample input-2\n",
    "-20\n",
    "\n",
    "### Sample output-2\n",
    "Negative"
   ]
  },
  {
   "cell_type": "code",
   "execution_count": 13,
   "metadata": {},
   "outputs": [
    {
     "name": "stdout",
     "output_type": "stream",
     "text": [
      "-22\n",
      "Negative\n"
     ]
    }
   ],
   "source": [
    "#Code to find whether number is positive or negative\n",
    "\n",
    "n=int(input())\n",
    "c1=n>0\n",
    "c2=n<0\n",
    "if c1:\n",
    "    print(\"Positive\")\n",
    "elif c2:\n",
    "    print(\"Negative\")\n",
    "else:\n",
    "    print(\"Zero\")"
   ]
  },
  {
   "cell_type": "markdown",
   "metadata": {},
   "source": [
    "# Fahrenheit to Celsius\n",
    "Given three values - Start Fahrenheit Value (S), End Fahrenheit value (E) and Step Size (W), you need to convert all Fahrenheit values from Start to End at the gap of W, into their corresponding Celsius values and print the table.\n",
    "\n",
    "### Input format\n",
    "3 integers - S, E and W respectively \n",
    "\n",
    "### Output format\n",
    "Fahrenheit to Celsius conversion table. One line for every Fahrenheit and corresponding Celsius value. The Fahrenheit value and its corresponding Celsius value should be separate by single space.\n",
    "\n",
    "### Constraints\n",
    "    0 <= S <= 90 \n",
    "    S <= E <=  900 \n",
    "    0 <= W <= 80\n",
    "\n",
    "### Sample Input - 1\n",
    "    0 \n",
    "    100 \n",
    "    20\n",
    "\n",
    "### Sample Output - 1\n",
    "    0   -17\n",
    "    20  -6\n",
    "    40  4\n",
    "    60  15\n",
    "    80  26\n",
    "    100 37"
   ]
  },
  {
   "cell_type": "code",
   "execution_count": 19,
   "metadata": {},
   "outputs": [
    {
     "name": "stdout",
     "output_type": "stream",
     "text": [
      "10\n",
      "100\n",
      "10\n",
      "10 -12\n",
      "20 -6\n",
      "30 -1\n",
      "40 4\n",
      "50 10\n",
      "60 15\n",
      "70 21\n",
      "80 26\n",
      "90 32\n",
      "100 37\n"
     ]
    }
   ],
   "source": [
    "s=int(input())\n",
    "e=int(input())\n",
    "w=int(input())\n",
    "c=0\n",
    "while s<=e:\n",
    "    c=int((5/9)*(s-32))\n",
    "    print(s,c)\n",
    "    s=s+w"
   ]
  },
  {
   "cell_type": "markdown",
   "metadata": {},
   "source": [
    "# Calculator\n",
    "\n",
    "## Write a program that performs the tasks of a simple calculator. The program should first take an integer as input and then based on that integer perform the task as given below.\n",
    "\n",
    "1. If the input is 1, then 2 integers are taken from the user and their sum is printed.\n",
    "2. If the input is 2, then 2 integers are taken from the user and their difference(1st number - 2nd number) is printed.\n",
    "3. If the input is 3, then 2 integers are taken from the user and their product is printed.\n",
    "4. If the input is 4, then 2 integers are taken from the user and the quotient obtained (on dividing 1st number by 2nd number) is printed.\n",
    "5. If the input is 5, then 2 integers are taken from the user and their remainder(1st number mod 2nd number) is printed.\n",
    "6. If the input is 6, then the program exits.\n",
    "7. For any other input, then print \"Invalid Operation\".\n",
    "Note: Each answer in next line.\n",
    "\n",
    "### Input format :\n",
    "Take integers as input, in accordance to the description of the question.\n",
    "\n",
    "### Constraint :\n",
    "Time Limit: 1 second\n",
    "\n",
    "### Output format :\n",
    "The output lines must be as prescribed in the description of the question.\n",
    "\n",
    "### Sample Input :\n",
    "    3\n",
    "    1\n",
    "    2\n",
    "    4\n",
    "    4\n",
    "    2\n",
    "    1\n",
    "    3\n",
    "    2\n",
    "    7\n",
    "    6\n",
    "\n",
    "### Sample Output :\n",
    "    2\n",
    "    2\n",
    "    5\n",
    "    Invalid Operation\n",
    "\n",
    "### Explanation and Sample input :\n",
    "The first number given is 3, so that means two more numbers will be given and we'll have to multiply them and show the result. The two numbers are 1 and 2. Their product is 2, so 2 is displayed first in the output. Similarly, all the numbers are processed in groups of three. The first number tells the operation and the next two numbers tell on which numbers the operation is done. This applies to numbers from 1 to 5. If the input is 6 (like it is at the end), two more numbers will NOT be provided, you simply have to exit the program. Also, if the input is any number except 1 to 6 (like 7 which is at the second last), then you simply have to print \"Invalid Operation\"\n"
   ]
  },
  {
   "cell_type": "code",
   "execution_count": 2,
   "metadata": {},
   "outputs": [
    {
     "name": "stdout",
     "output_type": "stream",
     "text": [
      "4\n",
      "2\n",
      "5\n",
      "0\n",
      "9\n",
      "Invalid Operation\n",
      "6\n"
     ]
    }
   ],
   "source": [
    "# CALCULATOR CODE\n",
    "inp=int(input())\n",
    "while inp != 6:\n",
    "    if inp >=1 and inp<=5:\n",
    "        a=int(input())\n",
    "        b=int(input())\n",
    "    if inp==1:\n",
    "        print(a+b)\n",
    "    elif inp==2:\n",
    "        print(a-b)\n",
    "    elif inp==3:\n",
    "        print(a*b)\n",
    "    elif inp==4:\n",
    "        print(a//b)\n",
    "    elif inp==5:\n",
    "        print(a%b)\n",
    "    \n",
    "    else:\n",
    "        print(\"Invalid Operation\")\n",
    "    inp = int(input())"
   ]
  },
  {
   "cell_type": "markdown",
   "metadata": {},
   "source": [
    "# Reverse a Number\n",
    "\n",
    "## Write a program to generate the reverse of a given number N. Print the corresponding reverse number.\n",
    "\n",
    "##### Note : If a number has trailing zeros, then its reverse will not include them. For e.g., reverse of 10400 will be 401 instead of 00401.\n",
    "\n",
    "### Input format\n",
    "Integer N\n",
    "\n",
    "### Outpot format\n",
    "Corresponding Reverse Number\n",
    "\n",
    "### Constraints\n",
    "$0 <= N < 10^8$\n",
    "\n",
    "### Sample Input-1\n",
    "1234\n",
    "\n",
    "### Sample output-1\n",
    "4321\n",
    "\n",
    "### Sample input-2\n",
    "1980\n",
    "\n",
    "### Sample output-2\n",
    "891"
   ]
  },
  {
   "cell_type": "code",
   "execution_count": 5,
   "metadata": {},
   "outputs": [
    {
     "name": "stdout",
     "output_type": "stream",
     "text": [
      "324980800\n",
      "8089423\n"
     ]
    }
   ],
   "source": [
    "#Code to find reversed number\n",
    "\n",
    "n= int(input())\n",
    "temp = n\n",
    "revNum = 0\n",
    "while temp > 0:\n",
    "    lastDigit = temp % 10\n",
    "    temp = temp // 10\n",
    "    revNum = revNum * 10 + lastDigit\n",
    "print(revNum)"
   ]
  },
  {
   "cell_type": "markdown",
   "metadata": {},
   "source": [
    "# Palindrome Number\n",
    "\n",
    "## Write a program to determine if given number is palindrome or not. Print true if it is palindrome, false otherwise.\n",
    "\n",
    "##### Palindrome are the numbers for which reverse is exactly same as the original one. For eg. 121\n",
    "\n",
    "### Sample input-1\n",
    "121\n",
    "\n",
    "### Sample output-1\n",
    "True\n",
    "\n",
    "### Sample input-2\n",
    "123421\n",
    "\n",
    "### Sample output-2\n",
    "False"
   ]
  },
  {
   "cell_type": "code",
   "execution_count": 7,
   "metadata": {},
   "outputs": [
    {
     "name": "stdout",
     "output_type": "stream",
     "text": [
      "2341\n",
      "false\n"
     ]
    }
   ],
   "source": [
    "#Code to find whether number is palindrome or not\n",
    "\n",
    "num = int(input())\n",
    "temp=num\n",
    "rev=0\n",
    "d=0\n",
    "while num>0:\n",
    "    d=num%10\n",
    "    rev=rev*10+d\n",
    "    num=num//10\n",
    "if (temp==rev):\n",
    "    print(\"true\")\n",
    "else:\n",
    "    print(\"false\")"
   ]
  },
  {
   "cell_type": "markdown",
   "metadata": {},
   "source": [
    "# Sum of Even and Odd\n",
    "\n",
    "## Write a program to input an integer N and print the sum of all its even digits and sum of all its odd digits separately.\n",
    "\n",
    "##### Digits mean numbers, not the places! That is, if the given integer is \"13245\", even digits are 2 & 4 and odd digits are 1, 3 & 5.\n",
    "\n",
    "### Input format :\n",
    "Integer N\n",
    "\n",
    "### Output format :\n",
    "Sum_of_Even_Digits Sum_of_Odd_Digits <br>\n",
    "(Print first even sum and then odd sum separated by space)\n",
    "\n",
    "### Constraints\n",
    "$0 <= N <= 10^8$\n",
    "\n",
    "### Sample input-1\n",
    "1234\n",
    "\n",
    "### Sample output-1\n",
    "6 4\n",
    "\n",
    "### Sample input-2\n",
    "6788\n",
    "\n",
    "### Sample output-2\n",
    "22 7"
   ]
  },
  {
   "cell_type": "code",
   "execution_count": 8,
   "metadata": {},
   "outputs": [
    {
     "name": "stdout",
     "output_type": "stream",
     "text": [
      "2345\n",
      "6 8\n"
     ]
    }
   ],
   "source": [
    "# Code to find sum of even and sum of odd digits in a number\n",
    "\n",
    "sum1=0\n",
    "sum2=0\n",
    "temp=0\n",
    "num=int(input())\n",
    "while num>0:\n",
    "    temp=num%10\n",
    "    if temp%2==0:\n",
    "        sum1+=temp\n",
    "    else:\n",
    "        sum2+=temp\n",
    "    num=num//10\n",
    "print(sum1, sum2)"
   ]
  },
  {
   "cell_type": "markdown",
   "metadata": {},
   "source": [
    "# Nth Fibonacci Number\n",
    "\n",
    "## Nth term of Fibonacci series F(n), where F(n) is a function, is calculated using the following formula - \n",
    "\n",
    "$$F(n) = F(n-1) + F(n-2), \n",
    " Where, F(1) = F(2) = 1$$ <br>\n",
    "Provided N you have to find out the Nth Fibonacci Number.\n",
    "\n",
    "### Input format\n",
    "6\n",
    "\n",
    "### Output format\n",
    "8\n",
    "\n",
    "### Constraint\n",
    "1 <= N <= 10000     \n",
    "Where ‘N’ represents the number for which we have to find its equivalent Fibonacci number.\n",
    "\n",
    "Time Limit: 1 second\n",
    "\n",
    "### Sample input-1\n",
    "The first line of each test case contains a real number ‘N’.\n",
    "\n",
    "### Sample output-1 \n",
    "For each test case, return its equivalent Fibonacci number.\n",
    "\n",
    "### Explanation of Sample Input :-\n",
    "Now the number is ‘6’ so we have to find the “6th” Fibonacci number\n",
    "So by using the property of the Fibonacci series i.e \n",
    "\n",
    "[ 1, 1, 2, 3, 5, 8]\n",
    "So the “6th” element is “8” hence we get the output.\n",
    " \n"
   ]
  },
  {
   "cell_type": "code",
   "execution_count": 11,
   "metadata": {},
   "outputs": [
    {
     "name": "stdout",
     "output_type": "stream",
     "text": [
      "10\n",
      "55\n"
     ]
    }
   ],
   "source": [
    "# Code to find Nth Fibonacci Number\n",
    "\n",
    "inp=int(input())\n",
    "n1,n2=1,1\n",
    "count=2\n",
    "if inp==0:\n",
    "    print(\"invalid input\")\n",
    "elif inp==1 or inp==2:\n",
    "    print(1)\n",
    "else:\n",
    "    while count<inp:\n",
    "        nth= n1+n2\n",
    "        n1=n2\n",
    "        n2=nth\n",
    "        count=count+1\n",
    "    print(nth)"
   ]
  },
  {
   "cell_type": "markdown",
   "metadata": {},
   "source": [
    "# Check Armstrong\n",
    "\n",
    "##### Write a Program to determine if the given number is Armstrong number or not. Print true if number is armstrong, otherwise print false.\n",
    "\n",
    "#### An Armstrong number is a number (with digits n) such that the sum of its digits raised to nth power is equal to the number itself.\n",
    "\n",
    "for example :- <br>\n",
    "\n",
    "$371:  3^3 + 7^3 + 1^3 = 371$ <br>\n",
    "$1634: 1^4 + 6^4 + 3^4 + 4^4 = 1634$\n",
    "\n",
    "### Input format \n",
    "Integer N\n",
    "\n",
    "### Output format\n",
    "true or false\n",
    "\n",
    "### Sample input-1\n",
    "1\n",
    "\n",
    "### Sample output-1\n",
    "true\n",
    "\n",
    "### Sample input-2\n",
    "103\n",
    "\n",
    "### Sample output-2\n",
    "false"
   ]
  },
  {
   "cell_type": "code",
   "execution_count": 21,
   "metadata": {},
   "outputs": [
    {
     "name": "stdout",
     "output_type": "stream",
     "text": [
      "123\n",
      "false\n"
     ]
    }
   ],
   "source": [
    "# Code to check whether number is Armstrong or not\n",
    "\n",
    "n=(input())\n",
    "l1=list(n)\n",
    "c=len(l1)\n",
    "i=0\n",
    "n=int(n)\n",
    "sum=0\n",
    "r=0\n",
    "if n<0:\n",
    "    print('false')\n",
    "else:\n",
    "    for i in l1:\n",
    "        sum=sum + (int(i)**c)\n",
    "    if sum==n:\n",
    "        print('true')\n",
    "    else:\n",
    "        print('false')"
   ]
  },
  {
   "cell_type": "code",
   "execution_count": null,
   "metadata": {},
   "outputs": [],
   "source": []
  }
 ],
 "metadata": {
  "kernelspec": {
   "display_name": "Python 3",
   "language": "python",
   "name": "python3"
  },
  "language_info": {
   "codemirror_mode": {
    "name": "ipython",
    "version": 3
   },
   "file_extension": ".py",
   "mimetype": "text/x-python",
   "name": "python",
   "nbconvert_exporter": "python",
   "pygments_lexer": "ipython3",
   "version": "3.7.6"
  }
 },
 "nbformat": 4,
 "nbformat_minor": 4
}
