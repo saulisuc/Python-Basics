{
 "cells": [
  {
   "cell_type": "markdown",
   "metadata": {},
   "source": [
    "## 1. Program to add two numbers"
   ]
  },
  {
   "cell_type": "code",
   "execution_count": 1,
   "metadata": {},
   "outputs": [
    {
     "name": "stdout",
     "output_type": "stream",
     "text": [
      "1\n",
      "2\n",
      "3\n"
     ]
    }
   ],
   "source": [
    "#Input taken in separated line\n",
    "a=int(input())\n",
    "b=int(input())\n",
    "sum= a + b\n",
    "print(sum)"
   ]
  },
  {
   "cell_type": "code",
   "execution_count": 2,
   "metadata": {},
   "outputs": [
    {
     "name": "stdout",
     "output_type": "stream",
     "text": [
      "1 2\n",
      "3\n"
     ]
    }
   ],
   "source": [
    "#Using space separated input\n",
    "n,m=map(int,input().split(' '))\n",
    "ans= n + m\n",
    "print(ans)"
   ]
  },
  {
   "cell_type": "markdown",
   "metadata": {},
   "source": [
    "## 2. Maximum of two numbers in Python"
   ]
  },
  {
   "cell_type": "code",
   "execution_count": 4,
   "metadata": {},
   "outputs": [
    {
     "name": "stdout",
     "output_type": "stream",
     "text": [
      "1\n",
      "2\n",
      "Maximum of two numbers is:  2\n"
     ]
    }
   ],
   "source": [
    "a=int(input())\n",
    "b=int(input())\n",
    "maxi=max(a,b)\n",
    "print(\"Maximum of two numbers is:\",\"\",maxi)"
   ]
  },
  {
   "cell_type": "markdown",
   "metadata": {},
   "source": [
    "## 3. Program for factorial of a number"
   ]
  },
  {
   "cell_type": "code",
   "execution_count": 6,
   "metadata": {},
   "outputs": [
    {
     "name": "stdout",
     "output_type": "stream",
     "text": [
      "4\n",
      "24\n"
     ]
    }
   ],
   "source": [
    "#Using Iteration\n",
    "n=int(input())\n",
    "fact=1\n",
    "for i in range(1,n+1):\n",
    "    fact=fact*i\n",
    "print(fact)"
   ]
  },
  {
   "cell_type": "code",
   "execution_count": 9,
   "metadata": {},
   "outputs": [
    {
     "name": "stdout",
     "output_type": "stream",
     "text": [
      "0\n",
      "1\n"
     ]
    }
   ],
   "source": [
    "#Using Recursion\n",
    "def facto(n):\n",
    "    if n==0:\n",
    "        return 1\n",
    "    return n*facto(n-1)\n",
    "b=int(input())\n",
    "res=facto(b)\n",
    "print(res)"
   ]
  },
  {
   "cell_type": "markdown",
   "metadata": {},
   "source": [
    "## 4. Program for simple interest"
   ]
  },
  {
   "cell_type": "code",
   "execution_count": 10,
   "metadata": {},
   "outputs": [
    {
     "name": "stdout",
     "output_type": "stream",
     "text": [
      "100 10 2\n",
      "Simple interest is:  20.0\n"
     ]
    }
   ],
   "source": [
    "#Space separated inputs are taken\n",
    "p,r,t=map(float,input().split(' '))\n",
    "si=(p*r*t)/100\n",
    "print(\"Simple interest is:\",\"\",si)"
   ]
  },
  {
   "cell_type": "markdown",
   "metadata": {},
   "source": [
    "## 5. Program to check Armstrong Number"
   ]
  },
  {
   "cell_type": "code",
   "execution_count": 17,
   "metadata": {},
   "outputs": [
    {
     "name": "stdout",
     "output_type": "stream",
     "text": [
      "153\n",
      "Yes, the number is Armstrong Number\n"
     ]
    }
   ],
   "source": [
    "n=input()\n",
    "l1=list(n)\n",
    "s=len(l1)\n",
    "n=int(n)\n",
    "sum=0\n",
    "for i in l1:\n",
    "    sum+= int(i)**s\n",
    "if sum==n:\n",
    "    print(\"Yes, the number is Armstrong Number\")\n",
    "else:\n",
    "    print(\"Not and Armstrong Number\")\n",
    "\n",
    "    "
   ]
  },
  {
   "cell_type": "markdown",
   "metadata": {},
   "source": [
    "## 6. Program for Program to find area of a circle"
   ]
  },
  {
   "cell_type": "code",
   "execution_count": 21,
   "metadata": {},
   "outputs": [
    {
     "name": "stdout",
     "output_type": "stream",
     "text": [
      "5\n",
      "78.5\n"
     ]
    }
   ],
   "source": [
    "pi=3.14\n",
    "r=float(input())\n",
    "area= pi*r*r\n",
    "print(area)"
   ]
  },
  {
   "cell_type": "markdown",
   "metadata": {},
   "source": [
    "## 7. Program to print all Prime numbers in an Interval"
   ]
  },
  {
   "cell_type": "code",
   "execution_count": 24,
   "metadata": {},
   "outputs": [
    {
     "name": "stdout",
     "output_type": "stream",
     "text": [
      "Enter starting value of interval:23\n",
      "Enter ending value of interval:31\n",
      "23 29 "
     ]
    }
   ],
   "source": [
    "s=int(input(\"Enter starting value of interval:\"))\n",
    "e=int(input(\"Enter ending value of interval:\"))\n",
    "i=s\n",
    "while i>=s and i<e: #Inclusive of starting value and exclusive of ending value\n",
    "    flag=False\n",
    "    for j in range(2,i):\n",
    "        if i%j==0:\n",
    "            flag=True\n",
    "            break\n",
    "    if flag:\n",
    "        pass\n",
    "    else:\n",
    "        print(i,end=\" \")\n",
    "    i+=1\n",
    "    "
   ]
  },
  {
   "cell_type": "markdown",
   "metadata": {},
   "source": [
    "## 8. Program to check whether a number is Prime or not"
   ]
  },
  {
   "cell_type": "code",
   "execution_count": 33,
   "metadata": {},
   "outputs": [
    {
     "name": "stdout",
     "output_type": "stream",
     "text": [
      "5\n",
      "The entered number is prime\n"
     ]
    }
   ],
   "source": [
    "n=int(input())\n",
    "i=2\n",
    "flag=False\n",
    "while i<n:\n",
    "    if n%i==0:\n",
    "        flag=True\n",
    "        break\n",
    "    i+=1\n",
    "if n<=0:\n",
    "    print(\"Neither prime nor odd\")\n",
    "elif flag:\n",
    "    print(\"The entered number is not prime\")\n",
    "else:\n",
    "    print(\"The entered number is prime\")"
   ]
  },
  {
   "cell_type": "markdown",
   "metadata": {},
   "source": [
    "## 9. Program for n-th Fibonacci number"
   ]
  },
  {
   "cell_type": "code",
   "execution_count": 39,
   "metadata": {},
   "outputs": [
    {
     "name": "stdout",
     "output_type": "stream",
     "text": [
      "7\n",
      "13\n"
     ]
    }
   ],
   "source": [
    "#Using recursion\n",
    "def nth_fibo(n):\n",
    "    if n==0:\n",
    "        return 0\n",
    "    if n==1 or n==2:\n",
    "        return 1\n",
    "    return nth_fibo(n-1) + nth_fibo(n-2)\n",
    "n=int(input())\n",
    "ans=nth_fibo(n)\n",
    "print(ans)"
   ]
  },
  {
   "cell_type": "markdown",
   "metadata": {},
   "source": [
    "## 10. Program for How to check if a given number is Fibonacci number?"
   ]
  },
  {
   "cell_type": "code",
   "execution_count": 47,
   "metadata": {},
   "outputs": [
    {
     "name": "stdout",
     "output_type": "stream",
     "text": [
      "13\n",
      "True\n"
     ]
    }
   ],
   "source": [
    "import math\n",
    "def isperfect(x):             #This function checks whether a number is perfect square or not\n",
    "    s= int(math.sqrt(x))\n",
    "    return s*s==x\n",
    "def isfibo(n):\n",
    "    return isperfect(5*n*n + 4) or isperfect(5*n*n - 4)\n",
    "n=int(input())\n",
    "ans=isfibo(n)\n",
    "print(ans)"
   ]
  },
  {
   "cell_type": "markdown",
   "metadata": {},
   "source": [
    "## 11. Program to print ASCII Value of a character"
   ]
  },
  {
   "cell_type": "code",
   "execution_count": 50,
   "metadata": {},
   "outputs": [
    {
     "name": "stdout",
     "output_type": "stream",
     "text": [
      "Enter a single character:D\n",
      "68\n"
     ]
    }
   ],
   "source": [
    "n=input(\"Enter a single character:\")\n",
    "ans=ord(n)\n",
    "print(ans)"
   ]
  },
  {
   "cell_type": "markdown",
   "metadata": {},
   "source": [
    "## 12. Program for Sum of squares of first n natural numbers"
   ]
  },
  {
   "cell_type": "code",
   "execution_count": 56,
   "metadata": {},
   "outputs": [
    {
     "name": "stdout",
     "output_type": "stream",
     "text": [
      "3\n",
      "14\n"
     ]
    }
   ],
   "source": [
    "n=int(input())\n",
    "sum=0\n",
    "for i in range(1,n+1):\n",
    "    sum+=i**2\n",
    "print(sum)"
   ]
  },
  {
   "cell_type": "markdown",
   "metadata": {},
   "source": [
    "## 13. Program for Sum of cube of first n natural numbers"
   ]
  },
  {
   "cell_type": "code",
   "execution_count": 57,
   "metadata": {},
   "outputs": [
    {
     "name": "stdout",
     "output_type": "stream",
     "text": [
      "3\n",
      "36\n"
     ]
    }
   ],
   "source": [
    "n=int(input())\n",
    "sum=0\n",
    "for i in range(1,n+1):\n",
    "    sum+=i**3\n",
    "print(sum)"
   ]
  },
  {
   "cell_type": "markdown",
   "metadata": {},
   "source": [
    "## 14. Program to find sum of array"
   ]
  },
  {
   "cell_type": "code",
   "execution_count": 61,
   "metadata": {},
   "outputs": [
    {
     "name": "stdout",
     "output_type": "stream",
     "text": [
      "1 3 5 7 223 1\n",
      "240\n"
     ]
    }
   ],
   "source": [
    "lst=input().split(' ') #Takes space separated elements of the array\n",
    "sum=0\n",
    "for i in lst:\n",
    "    sum+=int(i)\n",
    "print(sum)\n",
    "#type(lst)"
   ]
  },
  {
   "cell_type": "markdown",
   "metadata": {},
   "source": [
    "## 15. Program to find largest element in an array"
   ]
  },
  {
   "cell_type": "code",
   "execution_count": 66,
   "metadata": {},
   "outputs": [
    {
     "name": "stdout",
     "output_type": "stream",
     "text": [
      "1 2 3 8 11\n",
      "11\n"
     ]
    }
   ],
   "source": [
    "lst=input().split(' ') #Takes space separated elements of the array\n",
    "maxi=lst[0]\n",
    "for i in range(1,len(lst)):\n",
    "    if int(lst[i])>int(maxi):\n",
    "        maxi=int(lst[i])\n",
    "print(maxi)"
   ]
  },
  {
   "cell_type": "markdown",
   "metadata": {},
   "source": [
    "## 16. Program for array rotation"
   ]
  },
  {
   "cell_type": "code",
   "execution_count": null,
   "metadata": {},
   "outputs": [
    {
     "name": "stdout",
     "output_type": "stream",
     "text": [
      "1 2 3 4 5 6 7\n"
     ]
    }
   ],
   "source": []
  },
  {
   "cell_type": "markdown",
   "metadata": {},
   "source": [
    "## 17. Program for Find remainder of array multiplication divided by n"
   ]
  },
  {
   "cell_type": "code",
   "execution_count": 5,
   "metadata": {},
   "outputs": [
    {
     "name": "stdout",
     "output_type": "stream",
     "text": [
      "11\n",
      "100 10 5 25 35 14\n",
      "9\n"
     ]
    }
   ],
   "source": [
    "n=int(input())\n",
    "di=input().split(' ')\n",
    "pro=1\n",
    "for i in di:\n",
    "    pro*=int(i)\n",
    "an= pro%n\n",
    "print(an)"
   ]
  },
  {
   "cell_type": "markdown",
   "metadata": {},
   "source": [
    "## 18. Program to check if given array is Monotonic"
   ]
  },
  {
   "cell_type": "code",
   "execution_count": 12,
   "metadata": {},
   "outputs": [
    {
     "name": "stdout",
     "output_type": "stream",
     "text": [
      "2 1\n"
     ]
    },
    {
     "data": {
      "text/plain": [
       "True"
      ]
     },
     "execution_count": 12,
     "metadata": {},
     "output_type": "execute_result"
    }
   ],
   "source": [
    "def isMonotonic(A):\n",
    "  \n",
    "    return (all(A[i] <= A[i + 1] for i in range(len(A) - 1)) or\n",
    "            all(A[i] >= A[i + 1] for i in range(len(A) - 1)))\n",
    "n=input().split(' ')\n",
    "isMonotonic(n)"
   ]
  },
  {
   "cell_type": "code",
   "execution_count": 13,
   "metadata": {},
   "outputs": [
    {
     "name": "stdout",
     "output_type": "stream",
     "text": [
      "Help on built-in function all in module builtins:\n",
      "\n",
      "all(iterable, /)\n",
      "    Return True if bool(x) is True for all values x in the iterable.\n",
      "    \n",
      "    If the iterable is empty, return True.\n",
      "\n"
     ]
    }
   ],
   "source": [
    "help(all)"
   ]
  },
  {
   "cell_type": "markdown",
   "metadata": {},
   "source": [
    "## Swap first and last element of a list"
   ]
  },
  {
   "cell_type": "code",
   "execution_count": 14,
   "metadata": {},
   "outputs": [
    {
     "name": "stdout",
     "output_type": "stream",
     "text": [
      "1 2 3 4 5\n",
      "['5', '2', '3', '4', '1']\n"
     ]
    }
   ],
   "source": [
    "lit=input().split(' ')\n",
    "lit[0],lit[len(lit) - 1]=lit[len(lit) - 1],lit[0]\n",
    "print(lit)"
   ]
  },
  {
   "cell_type": "markdown",
   "metadata": {},
   "source": [
    "## Program to swap two positions of a list "
   ]
  },
  {
   "cell_type": "code",
   "execution_count": 15,
   "metadata": {},
   "outputs": [
    {
     "name": "stdout",
     "output_type": "stream",
     "text": [
      "2 3 55 23 2\n",
      "2\n",
      "3\n",
      "['2', '3', '23', '55', '2']\n"
     ]
    }
   ],
   "source": [
    "def swapos(arr,p1,p2):\n",
    "    newarr=arr\n",
    "    newarr[p1],newarr[p2]=newarr[p2],newarr[p1]\n",
    "    return newarr\n",
    "arr=input().split(\" \")\n",
    "p1=int(input())\n",
    "p2=int(input())\n",
    "print(swapos(arr,p1,p2))\n"
   ]
  },
  {
   "cell_type": "markdown",
   "metadata": {},
   "source": [
    "## Program to find length of list"
   ]
  },
  {
   "cell_type": "code",
   "execution_count": 17,
   "metadata": {},
   "outputs": [
    {
     "name": "stdout",
     "output_type": "stream",
     "text": [
      "0\n",
      "1\n"
     ]
    }
   ],
   "source": [
    "def length(arr):\n",
    "    c=0\n",
    "    for i in arr:\n",
    "        c+=1\n",
    "    return c\n",
    "a=input().split(' ')\n",
    "print(length(a))"
   ]
  },
  {
   "cell_type": "markdown",
   "metadata": {},
   "source": [
    "## Program to check if an element is present in a list"
   ]
  },
  {
   "cell_type": "code",
   "execution_count": 34,
   "metadata": {},
   "outputs": [
    {
     "name": "stdout",
     "output_type": "stream",
     "text": [
      "1 2 3 4\n",
      "2\n",
      "[False, True, False, False]\n"
     ]
    }
   ],
   "source": [
    "li=input().split(' ')\n",
    "n=input()\n",
    "ans= [li[i]==n for i in range(len(li))]\n",
    "print(ans)"
   ]
  }
 ],
 "metadata": {
  "kernelspec": {
   "display_name": "Python 3",
   "language": "python",
   "name": "python3"
  },
  "language_info": {
   "codemirror_mode": {
    "name": "ipython",
    "version": 3
   },
   "file_extension": ".py",
   "mimetype": "text/x-python",
   "name": "python",
   "nbconvert_exporter": "python",
   "pygments_lexer": "ipython3",
   "version": "3.7.6"
  }
 },
 "nbformat": 4,
 "nbformat_minor": 4
}
