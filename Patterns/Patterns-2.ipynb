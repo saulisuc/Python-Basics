{
 "cells": [
  {
   "cell_type": "markdown",
   "metadata": {},
   "source": [
    "## 1. Write a program to print the pattern given below.\n",
    "\n",
    "For N = 4 the program should print below pattern :-\n",
    "\n",
    "       *\n",
    "      ***\n",
    "     *****\n",
    "    *******\n",
    "\n",
    "##### Input format\n",
    "Integer N(no of rows)\n",
    "\n",
    "##### Output format\n",
    "Pattern in N lines"
   ]
  },
  {
   "cell_type": "code",
   "execution_count": 15,
   "metadata": {},
   "outputs": [
    {
     "name": "stdout",
     "output_type": "stream",
     "text": [
      "5\n",
      "    *\n",
      "   ***\n",
      "  *****\n",
      " *******\n",
      "*********\n"
     ]
    }
   ],
   "source": [
    "n=int(input())\n",
    "i=1\n",
    "while i<=n:\n",
    "    if i<=(n//2 + 1):\n",
    "        s=1\n",
    "        while s<=n-i:\n",
    "            print(\" \",end=\"\")\n",
    "            s=s+1\n",
    "        st=1\n",
    "        while st<=i:\n",
    "            print(\"*\",end=\"\")\n",
    "            st=st+1\n",
    "        p=1\n",
    "        while p<i:\n",
    "            print(\"*\",end=\"\")\n",
    "            p=p+1\n",
    "        print()\n",
    "        i=i+1\n",
    "    else:\n",
    "        t=1\n",
    "        while t<(n//2 + 1)"
   ]
  },
  {
   "cell_type": "markdown",
   "metadata": {},
   "source": [
    "## 2. Write a program to print the pattern given below.\n",
    "\n",
    "For N = 4 the program should print below pattern :-\n",
    "\n",
    "     1      1 \n",
    "     12    21 \n",
    "     123  321 \n",
    "     12344321 \n",
    "\n",
    "##### Input format\n",
    "Integer N(no of rows)\n",
    "\n",
    "##### Output format\n",
    "Pattern in N lines"
   ]
  },
  {
   "cell_type": "code",
   "execution_count": 4,
   "metadata": {},
   "outputs": [
    {
     "name": "stdout",
     "output_type": "stream",
     "text": [
      "4\n",
      "1      1\n",
      "12    21\n",
      "123  321\n",
      "12344321\n"
     ]
    }
   ],
   "source": [
    "n=int(input())\n",
    "i=1\n",
    "while i<=n:\n",
    "    j=1\n",
    "    while j<=i:\n",
    "        print(j,end=\"\")\n",
    "        j=j+1\n",
    "    s=1\n",
    "    while s<=n-i:\n",
    "        print(\" \",end=\"\")\n",
    "        s=s+1\n",
    "    p=1\n",
    "    while p<=n-i:\n",
    "        print(\" \",end=\"\")\n",
    "        p=p+1\n",
    "    t=1\n",
    "    k=i\n",
    "    while t<=i:\n",
    "        print(k,end=\"\")\n",
    "        t=t+1\n",
    "        k=k-1\n",
    "    print()\n",
    "    i=i+1"
   ]
  },
  {
   "cell_type": "markdown",
   "metadata": {},
   "source": [
    "## 3. Write a program to print the pattern given below.\n",
    "\n",
    "For N = 4 the program should print below pattern :-\n",
    "\n",
    "           *\n",
    "            **\n",
    "             ***\n",
    "              ****\n",
    "               *****\n",
    "              ****\n",
    "             ***\n",
    "            **\n",
    "           *\n",
    "\n",
    "##### Input format\n",
    "Integer N(no of rows)\n",
    "\n",
    "##### Output format\n",
    "Pattern in N lines"
   ]
  },
  {
   "cell_type": "code",
   "execution_count": 26,
   "metadata": {},
   "outputs": [
    {
     "name": "stdout",
     "output_type": "stream",
     "text": [
      "9\n",
      "*        \n",
      " **       \n",
      "  ***      \n",
      "   ****     \n",
      "    *****    \n",
      "   ****  \n",
      "  ***  \n",
      " **  \n",
      "*  \n"
     ]
    }
   ],
   "source": [
    "n=int(input())\n",
    "i=1\n",
    "while i<=(n//2 + 1):\n",
    "    j=1\n",
    "    while j<i:\n",
    "        print(\" \",end=\"\")\n",
    "        j=j+1\n",
    "    s=1\n",
    "    while s<=i:\n",
    "        print(\"*\",end=\"\")\n",
    "        s=s+1\n",
    "    t=1\n",
    "    while t<=n-i:\n",
    "        print(\" \",end=\"\")\n",
    "        t=t+1\n",
    "    print()\n",
    "    i=i+1\n",
    "while i>(n//2 + 1) and i<=n:\n",
    "    l=1\n",
    "    while l<=n-i:\n",
    "        print(\" \",end=\"\")\n",
    "        l=l+1\n",
    "    k=1\n",
    "    while k<=n-i+1:\n",
    "        print(\"*\",end=\"\")\n",
    "        k=k+1\n",
    "    m=1\n",
    "    b=(n//2)/2\n",
    "    while m<=b:\n",
    "        print(\" \",end=\"\")\n",
    "        m=m+1\n",
    "        #b=b+2\n",
    "    print()\n",
    "    i=i+1\n"
   ]
  },
  {
   "cell_type": "markdown",
   "metadata": {},
   "source": [
    "## 4. Write a program to print the pattern given below.\n",
    "\n",
    "For N = 4 the program should print below pattern:-\n",
    "\n",
    "    123456 \n",
    "     23456 \n",
    "      3456 \n",
    "       456\n",
    "        56\n",
    "         6\n",
    "        56\n",
    "       456\n",
    "      3456\n",
    "     23456\n",
    "    123456\n",
    "\n",
    "##### Input format\n",
    "Integer N(no of rows)\n",
    "\n",
    "##### Output format\n",
    "Pattern in N lines"
   ]
  },
  {
   "cell_type": "code",
   "execution_count": 39,
   "metadata": {},
   "outputs": [
    {
     "name": "stdout",
     "output_type": "stream",
     "text": [
      "6\n",
      "123456\n",
      " 23456\n",
      "  3456\n",
      "   456\n",
      "    56\n",
      "     6\n",
      "    56\n",
      "   456\n",
      "  3456\n",
      " 23456\n",
      "123456\n"
     ]
    }
   ],
   "source": [
    "n=int(input())\n",
    "i=1\n",
    "n2=n-1\n",
    "p=n\n",
    "while i<=n:\n",
    "    j=1\n",
    "    while j<=i-1:\n",
    "        print(\" \", end=\"\")\n",
    "        j=j+1\n",
    "    k=1\n",
    "    l=i\n",
    "    while k<=p:\n",
    "        print(l,end=\"\")\n",
    "        l=l+1\n",
    "        k=k+1\n",
    "    print()\n",
    "    i=i+1\n",
    "    p=p-1\n",
    "e=1\n",
    "while e<=n2:\n",
    "    v=1\n",
    "    while v<=(n2-e):\n",
    "        print(\" \",end=\"\")\n",
    "        v=v+1\n",
    "    x=1\n",
    "    y=n2 - e + 1\n",
    "    while x<=e+1:\n",
    "        print(y,end=\"\")\n",
    "        x=x+1\n",
    "        y=y+1\n",
    "    print()\n",
    "    e=e+1"
   ]
  },
  {
   "cell_type": "markdown",
   "metadata": {},
   "source": [
    "## 5. Write a program to print the pattern given below.\n",
    "\n",
    "For N = 4 the program should print below pattern :-\n",
    "\n",
    "    1           1 \n",
    "      2       2   \n",
    "        3   3     \n",
    "          4       \n",
    "        3   3     \n",
    "      2       2   \n",
    "    1           1 \n",
    "\n",
    "##### Input format\n",
    "Integer N(no of rows)\n",
    "\n",
    "##### Output format\n",
    "Pattern in N lines"
   ]
  },
  {
   "cell_type": "code",
   "execution_count": 5,
   "metadata": {},
   "outputs": [
    {
     "name": "stdout",
     "output_type": "stream",
     "text": [
      "4\n",
      "1           1 \n",
      "  2       2   \n",
      "    3   3     \n",
      "      4       \n",
      "    3   3     \n",
      "  2       2   \n",
      "1           1 \n"
     ]
    }
   ],
   "source": [
    "n=int(input())\n",
    "n1= 2*n//2\n",
    "n2= 2*n - n1 - 1\n",
    "i=1\n",
    "while i<=n1:\n",
    "    j=1\n",
    "    while j< 2*n :\n",
    "        if j==i or j== 2*n - i:\n",
    "            print(i,end=\" \")\n",
    "        else:\n",
    "            print(\" \",end=\" \")\n",
    "        j+=1\n",
    "    print()\n",
    "    i+=1\n",
    "i=n2\n",
    "while i>=1:\n",
    "    k=1\n",
    "    while k< 2*n:\n",
    "        if k==i or k== 2*n - i:\n",
    "            print(i,end=\" \")\n",
    "        else:\n",
    "            print(\" \",end=\" \")\n",
    "        k+=1\n",
    "    print()\n",
    "    i-=1\n"
   ]
  },
  {
   "cell_type": "markdown",
   "metadata": {},
   "source": [
    "## 6. Write a program to print the pattern given below.\n",
    "\n",
    "For N = 4 the program should print below pattern :-\n",
    "\n",
    "        1\n",
    "       232\n",
    "      34543\n",
    "     4567654 \n",
    "\n",
    "##### Input format\n",
    "Integer N(no of rows)\n",
    "\n",
    "##### Output format\n",
    "Pattern in N lines"
   ]
  },
  {
   "cell_type": "code",
   "execution_count": 8,
   "metadata": {},
   "outputs": [
    {
     "name": "stdout",
     "output_type": "stream",
     "text": [
      "5\n",
      "    1\n",
      "   232\n",
      "  34543\n",
      " 4567654\n",
      "567898765\n"
     ]
    }
   ],
   "source": [
    "## Read input as specified in the question.\n",
    "## Print output as specified in the question.\n",
    "n=int(input())\n",
    "i=1\n",
    "while i<=n:\n",
    "    s=1\n",
    "    while s<=n-i:\n",
    "        print(\" \",end=\"\")\n",
    "        s=s+1\n",
    "    m=i\n",
    "    t=1\n",
    "    while t<=i:\n",
    "        print(m,end=\"\")\n",
    "        t=t+1\n",
    "        m=m+1\n",
    "    p=1\n",
    "    while p<i:\n",
    "        print(m-2,end=\"\")\n",
    "        p=p+1\n",
    "        m=m-1\n",
    "    print()\n",
    "    i=i+1"
   ]
  },
  {
   "cell_type": "markdown",
   "metadata": {},
   "source": [
    "## 7. Write a program to print the pattern given below.\n",
    "\n",
    "For N = 5 the program should print below pattern(N should always be odd) :-\n",
    "\n",
    "        *\n",
    "       ***\n",
    "      *****\n",
    "       ***\n",
    "        *\n",
    "\n",
    "##### Input format\n",
    "Integer N(no of rows)\n",
    "\n",
    "##### Output format\n",
    "Pattern in N lines"
   ]
  },
  {
   "cell_type": "code",
   "execution_count": 10,
   "metadata": {},
   "outputs": [
    {
     "name": "stdout",
     "output_type": "stream",
     "text": [
      "5\n",
      "  *\n",
      " ***\n",
      "*****\n",
      " ***\n",
      "  *\n"
     ]
    }
   ],
   "source": [
    "## Read input as specified in the question.\n",
    "## Print output as specified in the question.\n",
    "n=int(input())\n",
    "i=1\n",
    "n1 = (n+1)//2\n",
    "n2 = n1-1\n",
    "while i<=(n//2+1):\n",
    "    s=1\n",
    "    while s<=n1-i:\n",
    "        print(\" \",end=\"\")\n",
    "        s=s+1\n",
    "    st=1\n",
    "    while st<=i:\n",
    "        print(\"*\",end=\"\")\n",
    "        st=st+1\n",
    "    p=1\n",
    "    while p<i:\n",
    "        print(\"*\",end=\"\")\n",
    "        p=p+1\n",
    "    print()\n",
    "    i=i+1\n",
    "i=n2  \n",
    "while i>=1:\n",
    "    spaces =1\n",
    "    while spaces<=n2-i+1:\n",
    "        print(\" \", end= \"\")\n",
    "        spaces += 1\n",
    "    j =1\n",
    "    x = (2*i)-1\n",
    "    while j<=x:\n",
    "        print(\"*\",end='')\n",
    "        j =j+1\n",
    "    print()\n",
    "    i -=1"
   ]
  },
  {
   "cell_type": "markdown",
   "metadata": {},
   "source": [
    "## 8. Write a program to print the pattern given below.\n",
    "\n",
    "For N = 4 the program should print below pattern:-\n",
    "\n",
    "    *000*000*\n",
    "    0*00*00*0\n",
    "    00*0*0*00\n",
    "    000***000\n",
    "\n",
    "##### Input format\n",
    "Integer N(no of rows)\n",
    "\n",
    "##### Output format\n",
    "Pattern in N lines"
   ]
  },
  {
   "cell_type": "code",
   "execution_count": 13,
   "metadata": {},
   "outputs": [
    {
     "name": "stdout",
     "output_type": "stream",
     "text": [
      "4\n",
      "*000*000*\n",
      "0*00*00*0\n",
      "00*0*0*00\n",
      "000***000\n"
     ]
    }
   ],
   "source": [
    "n=int(input())\n",
    "start=1\n",
    "end=2*n+1\n",
    "mid=n+1\n",
    "i=1\n",
    "while i<=n:\n",
    "    j=1   \n",
    "    while j<=2*n+1:\n",
    "        if(j == start or j == end or j == mid):\n",
    "            print('*',end='')\n",
    "        else:\n",
    "            print('0',end='')\n",
    "        j=j+1\n",
    "    start += 1\n",
    "    end -= 1\n",
    "    print()\n",
    "    i=i+1"
   ]
  },
  {
   "cell_type": "markdown",
   "metadata": {},
   "source": [
    "## 9. Write a program to print the pattern given below.\n",
    "\n",
    "For N = 4 the program should print below pattern :-\n",
    "\n",
    "       1\n",
    "      212\n",
    "     32123\n",
    "    4321234\n",
    "\n",
    "##### Input format\n",
    "Integer N(no of rows)\n",
    "\n",
    "##### Output format\n",
    "Pattern in N lines"
   ]
  },
  {
   "cell_type": "code",
   "execution_count": 15,
   "metadata": {},
   "outputs": [
    {
     "name": "stdout",
     "output_type": "stream",
     "text": [
      "4\n",
      "   1\n",
      "  212\n",
      " 32123\n",
      "4321234\n"
     ]
    }
   ],
   "source": [
    "## Read input as specified in the question.\n",
    "## Print output as specified in the question.\n",
    "n=int(input())\n",
    "i=1\n",
    "while i<=n:\n",
    "    s=1\n",
    "    while s<=n-i:\n",
    "        print(\" \",end=\"\")\n",
    "        s=s+1\n",
    "    num=i\n",
    "    while num>=1:\n",
    "        print(num,end=\"\")\n",
    "        num=num-1\n",
    "    t=1\n",
    "    while t<i:\n",
    "        print(t+1,end=\"\")\n",
    "        t=t+1\n",
    "    print()\n",
    "    i=i+1"
   ]
  },
  {
   "cell_type": "markdown",
   "metadata": {},
   "source": [
    "## 10. Write a program to print the pattern given below.\n",
    "\n",
    "For N = 5 the program should print below pattern :-\n",
    "\n",
    "        1\n",
    "       12\n",
    "      123\n",
    "     1234\n",
    "    12345\n",
    "\n",
    "##### Input format\n",
    "Integer N(no of rows)\n",
    "\n",
    "##### Output format\n",
    "Pattern in N lines"
   ]
  },
  {
   "cell_type": "code",
   "execution_count": 16,
   "metadata": {},
   "outputs": [
    {
     "name": "stdout",
     "output_type": "stream",
     "text": [
      "5\n",
      "    1\n",
      "   12\n",
      "  123\n",
      " 1234\n",
      "12345\n"
     ]
    }
   ],
   "source": [
    "## Read input as specified in the question\n",
    "## Print the required output in given format\n",
    "n=int(input())\n",
    "i=1\n",
    "while i<=n:\n",
    "    s=1\n",
    "    while s<= n-i:\n",
    "        print(\" \",end=\"\")\n",
    "        s=s+1\n",
    "    num=1\n",
    "    while num<=i:\n",
    "        print(num,end=\"\")\n",
    "        num=num+1\n",
    "    print()\n",
    "    i=i+1"
   ]
  },
  {
   "cell_type": "markdown",
   "metadata": {},
   "source": [
    "## 11. Write a program to print the pattern given below.\n",
    "\n",
    "For N = 5 the program should print below pattern :-\n",
    "\n",
    "    11111\n",
    "    0000\n",
    "    111\n",
    "    00\n",
    "    1\n",
    "    \n",
    "##### Input format\n",
    "Integer N(no of rows)\n",
    "\n",
    "##### Output format\n",
    "Pattern in N lines"
   ]
  },
  {
   "cell_type": "code",
   "execution_count": 17,
   "metadata": {},
   "outputs": [
    {
     "name": "stdout",
     "output_type": "stream",
     "text": [
      "5\n",
      "11111\n",
      "0000\n",
      "111\n",
      "00\n",
      "1\n"
     ]
    }
   ],
   "source": [
    "## Read input as specified in the question.\n",
    "## Print output as specified in the question.\n",
    "n=int(input())\n",
    "m=n\n",
    "for i in range(1,n+1):\n",
    "    \n",
    "    if i%2!=0:\n",
    "        \n",
    "        for j in range(1,m+1):\n",
    "            print(i%2,end=\"\")\n",
    "            \n",
    "    else:\n",
    "        for k in range(1,m+1):\n",
    "            print(i%2,end=\"\")\n",
    "       \n",
    "    print()\n",
    "    m=m-1"
   ]
  },
  {
   "cell_type": "markdown",
   "metadata": {},
   "source": [
    "## 12. Write a program to print the pattern given below.\n",
    "\n",
    "For N = 4 the program should print below pattern :-\n",
    "\n",
    "    4444444\n",
    "    4333334\n",
    "    4322234\n",
    "    4321234\n",
    "    4322234\n",
    "    4333334\n",
    "    4444444\n",
    "    \n",
    "##### Input format\n",
    "Integer N(no of rows)\n",
    "\n",
    "##### Output format\n",
    "Pattern in N lines"
   ]
  },
  {
   "cell_type": "code",
   "execution_count": 19,
   "metadata": {},
   "outputs": [
    {
     "name": "stdout",
     "output_type": "stream",
     "text": [
      "4\n",
      "4444444\n",
      "4333334\n",
      "4322234\n",
      "4321234\n",
      "4322234\n",
      "4333334\n",
      "4444444\n"
     ]
    }
   ],
   "source": [
    "## Read input as specified in the question.\n",
    "## Print output as specified in the question.\n",
    "n = int(input())\n",
    "for i in range(1,n+1):\n",
    "    temp = n\n",
    "    for j in range(1,i):\n",
    "        print(temp,end=\"\")\n",
    "        temp = temp -1\n",
    "    for j in range(1,(2*n) - (2*i) + 2):\n",
    "        print(n-i+1,end=\"\")\n",
    "    for j in range(1,i):\n",
    "        temp = temp+1\n",
    "        print(temp,end=\"\")\n",
    "    print()\n",
    "for i in range(n-1,0,-1):\n",
    "    temp = n\n",
    "    for j in range(1,i):\n",
    "        print(temp,end=\"\")\n",
    "        temp = temp - 1 \n",
    "    for j in range(1,(2*n) - (2*i) + 2):\n",
    "        print(n-i+1,end=\"\")\n",
    "    for j in range(1,i):\n",
    "        temp = temp+1\n",
    "        print(temp,end=\"\")\n",
    "    print()"
   ]
  },
  {
   "cell_type": "markdown",
   "metadata": {},
   "source": [
    "## 13. Write a program to print the pattern given below.\n",
    "\n",
    "For N = 4 the program should print below pattern :-\n",
    "\n",
    "    1 2 3 4 \n",
    "    9 10 11 12 \n",
    "    13 14 15 16 \n",
    "    5 6 7 8\n",
    "    \n",
    "##### Input format\n",
    "Integer N(no of rows)\n",
    "\n",
    "##### Output format\n",
    "Pattern in N lines"
   ]
  },
  {
   "cell_type": "code",
   "execution_count": 21,
   "metadata": {},
   "outputs": [
    {
     "name": "stdout",
     "output_type": "stream",
     "text": [
      "4\n",
      "1 2 3 4 \n",
      "9 10 11 12 \n",
      "13 14 15 16 \n",
      "5 6 7 8 \n"
     ]
    }
   ],
   "source": [
    "n = int(input()) \n",
    "startValue = 1\n",
    "for i in range(1,n+1): \n",
    "    for j in range(startValue,startValue + n):\n",
    "        print(j,end=\" \")\n",
    "    print()\n",
    "    if(i==((n+1)//2)):\n",
    "        if((n%2)!=0):\n",
    "            startValue = n*(n-2)+1\n",
    "        else:\n",
    "            startValue = n*(n-1) + 1\n",
    "    elif((i>(n+1)//2)):\n",
    "        startValue = startValue - 2*n\n",
    "    else:\n",
    "        startValue = startValue + 2*n "
   ]
  },
  {
   "cell_type": "code",
   "execution_count": null,
   "metadata": {},
   "outputs": [],
   "source": []
  }
 ],
 "metadata": {
  "kernelspec": {
   "display_name": "Python 3",
   "language": "python",
   "name": "python3"
  },
  "language_info": {
   "codemirror_mode": {
    "name": "ipython",
    "version": 3
   },
   "file_extension": ".py",
   "mimetype": "text/x-python",
   "name": "python",
   "nbconvert_exporter": "python",
   "pygments_lexer": "ipython3",
   "version": "3.7.6"
  }
 },
 "nbformat": 4,
 "nbformat_minor": 4
}
