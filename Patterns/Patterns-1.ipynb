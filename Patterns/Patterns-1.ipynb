{
 "cells": [
  {
   "cell_type": "markdown",
   "metadata": {},
   "source": [
    "## 1. Write a program to print the pattern given below.\n",
    "\n",
    "For N = 4 the program should print below pattern(no space in-between 1s printed) :-\n",
    "\n",
    "1 <br>\n",
    "1 1 <br>\n",
    "1 1 1 <br>\n",
    "1 1 1 1 <br>\n",
    "\n",
    "##### Input format\n",
    "Integer N(no of rows)\n",
    "\n",
    "##### Output format\n",
    "Pattern in N lines"
   ]
  },
  {
   "cell_type": "code",
   "execution_count": 10,
   "metadata": {},
   "outputs": [
    {
     "name": "stdout",
     "output_type": "stream",
     "text": [
      "4\n",
      "1\n",
      "11\n",
      "111\n",
      "1111\n"
     ]
    }
   ],
   "source": [
    "n=int(input())\n",
    "i=1\n",
    "k=1\n",
    "while i<=n:\n",
    "    j=1\n",
    "    while j<=i:\n",
    "        print(k,end=\"\")\n",
    "        j=j+1\n",
    "    print()\n",
    "    i=i+1"
   ]
  },
  {
   "cell_type": "markdown",
   "metadata": {},
   "source": [
    "## 2. Write a program to print the pattern given below.\n",
    "\n",
    "For N = 4 the program should print below pattern :-\n",
    "\n",
    "1 <br>\n",
    "11 <br>\n",
    "121 <br>\n",
    "1221 <br>\n",
    "\n",
    "##### Input format\n",
    "Integer N(no of rows)\n",
    "\n",
    "##### Output format\n",
    "Pattern in N lines"
   ]
  },
  {
   "cell_type": "code",
   "execution_count": 11,
   "metadata": {},
   "outputs": [
    {
     "name": "stdout",
     "output_type": "stream",
     "text": [
      "5\n",
      "1\n",
      "11\n",
      "121\n",
      "1221\n",
      "12221\n"
     ]
    }
   ],
   "source": [
    "n=int(input())\n",
    "i=1\n",
    "while i<=n:\n",
    "    j=1\n",
    "    while j<=i:\n",
    "        if i==1:\n",
    "            print(1,end=\"\")\n",
    "        elif j==1 or j==i:\n",
    "            print(1,end=\"\")\n",
    "        else:\n",
    "            print(2,end=\"\")\n",
    "        j=j+1\n",
    "    print()\n",
    "    i=i+1"
   ]
  },
  {
   "cell_type": "markdown",
   "metadata": {},
   "source": [
    "## 3. Write a program to print the pattern given below.\n",
    "\n",
    "For N = 4 the program should print below pattern :-\n",
    "\n",
    "12345 <br>\n",
    "1234 <br>\n",
    "123 <br>\n",
    "12 <br>\n",
    "1\n",
    "\n",
    "##### Input format\n",
    "Integer N(no of rows)\n",
    "\n",
    "##### Output format\n",
    "Pattern in N lines"
   ]
  },
  {
   "cell_type": "code",
   "execution_count": 12,
   "metadata": {},
   "outputs": [
    {
     "name": "stdout",
     "output_type": "stream",
     "text": [
      "5\n",
      "12345\n",
      "1234\n",
      "123\n",
      "12\n",
      "1\n"
     ]
    }
   ],
   "source": [
    "## Read input as specified in the question.\n",
    "## Print output as specified in the question.\n",
    "n=int(input())\n",
    "i=1\n",
    "k=n\n",
    "while i<=n:\n",
    "    j=1\n",
    "    while j<=k:\n",
    "        print(j,end=\"\")\n",
    "        j=j+1\n",
    "    print()\n",
    "    i=i+1\n",
    "    k=k-1"
   ]
  },
  {
   "cell_type": "markdown",
   "metadata": {},
   "source": [
    "## 4. Write a program to print the pattern given below.\n",
    "\n",
    "For N = 4 the program should print below pattern :-\n",
    "\n",
    "4444 <br>\n",
    "4444 <br>\n",
    "4444 <br>\n",
    "4444 <br>\n",
    "\n",
    "##### Input format\n",
    "Integer N(no of rows)\n",
    "\n",
    "##### Output format\n",
    "Pattern in N lines"
   ]
  },
  {
   "cell_type": "code",
   "execution_count": 13,
   "metadata": {},
   "outputs": [
    {
     "name": "stdout",
     "output_type": "stream",
     "text": [
      "5\n",
      "55555\n",
      "55555\n",
      "55555\n",
      "55555\n",
      "55555\n"
     ]
    }
   ],
   "source": [
    "## Read input as specified in the question\n",
    "## Print the required output in given format\n",
    "inp=int(input())\n",
    "i=1\n",
    "while i<=inp:\n",
    "    j=1\n",
    "    while j<=inp:\n",
    "        print(inp,end=\"\")\n",
    "        j=j+1\n",
    "    print()\n",
    "    i=i+1"
   ]
  },
  {
   "cell_type": "markdown",
   "metadata": {},
   "source": [
    "## 5. Write a program to print the pattern given below.\n",
    "\n",
    "For N = 4 the program should print below pattern :-\n",
    "\n",
    "    * \n",
    "    ** \n",
    "    *** \n",
    "    **** \n",
    "\n",
    "##### Input format\n",
    "Integer N(no of rows)\n",
    "\n",
    "##### Output format\n",
    "Pattern in N lines"
   ]
  },
  {
   "cell_type": "code",
   "execution_count": 14,
   "metadata": {},
   "outputs": [
    {
     "name": "stdout",
     "output_type": "stream",
     "text": [
      "5\n",
      "*\n",
      "**\n",
      "***\n",
      "****\n",
      "*****\n"
     ]
    }
   ],
   "source": [
    "## Read input as specified in the question\n",
    "## Print the required output in given format\n",
    "n=int(input())\n",
    "i=1\n",
    "while i<=n:\n",
    "    j=1\n",
    "    while j<=i:\n",
    "        print(\"*\",end=\"\")\n",
    "        j=j+1\n",
    "    print()\n",
    "    i=i+1"
   ]
  },
  {
   "cell_type": "markdown",
   "metadata": {},
   "source": [
    "## 6. Write a program to print the pattern given below.\n",
    "\n",
    "For N = 4 the program should print below pattern :-\n",
    "\n",
    "1 <br>\n",
    "22 <br>\n",
    "333 <br>\n",
    "4444 <br>\n",
    "\n",
    "##### Input format\n",
    "Integer N(no of rows)\n",
    "\n",
    "##### Output format\n",
    "Pattern in N lines"
   ]
  },
  {
   "cell_type": "code",
   "execution_count": 15,
   "metadata": {},
   "outputs": [
    {
     "name": "stdout",
     "output_type": "stream",
     "text": [
      "5\n",
      "1\n",
      "22\n",
      "333\n",
      "4444\n",
      "55555\n"
     ]
    }
   ],
   "source": [
    "## Read input as specified in the question\n",
    "## Print the required output in given format\n",
    "n=int(input())\n",
    "i=1\n",
    "while i<=n:\n",
    "    j=1\n",
    "    while j<=i:\n",
    "        print(i,end=\"\")\n",
    "        j=j+1\n",
    "    print()\n",
    "    i=i+1"
   ]
  },
  {
   "cell_type": "markdown",
   "metadata": {},
   "source": [
    "## 7. Write a program to print the pattern given below.\n",
    "\n",
    "For N = 4 the program should print below pattern :-\n",
    "\n",
    "1 <br>\n",
    "21 <br>\n",
    "321 <br>\n",
    "4321 <br>\n",
    "\n",
    "##### Input format\n",
    "Integer N(no of rows)\n",
    "\n",
    "##### Output format\n",
    "Pattern in N lines"
   ]
  },
  {
   "cell_type": "code",
   "execution_count": 16,
   "metadata": {},
   "outputs": [
    {
     "name": "stdout",
     "output_type": "stream",
     "text": [
      "4\n",
      "1\n",
      "21\n",
      "321\n",
      "4321\n"
     ]
    }
   ],
   "source": [
    "## Read input as specified in the question\n",
    "## Print the required output in given format\n",
    "n=int(input())\n",
    "i=1\n",
    "while i<=n:\n",
    "    j=1\n",
    "    k=i\n",
    "    while j<=i:\n",
    "        print(k,end=\"\")\n",
    "        k=k-1\n",
    "        j=j+1\n",
    "    print()\n",
    "    i=i+1"
   ]
  },
  {
   "cell_type": "markdown",
   "metadata": {},
   "source": [
    "## 8. Write a program to print the pattern given below.\n",
    "\n",
    "For N = 4 the program should print below pattern :-\n",
    "\n",
    "A <br>\n",
    "BC <br>\n",
    "CDE <br>\n",
    "DEFG <br>\n",
    "\n",
    "##### Input format\n",
    "Integer N(no of rows)\n",
    "\n",
    "##### Output format\n",
    "Pattern in N lines"
   ]
  },
  {
   "cell_type": "code",
   "execution_count": 17,
   "metadata": {},
   "outputs": [
    {
     "name": "stdout",
     "output_type": "stream",
     "text": [
      "5\n",
      "A\n",
      "BC\n",
      "CDE\n",
      "DEFG\n",
      "EFGHI\n"
     ]
    }
   ],
   "source": [
    "## Read input as specified in the question\n",
    "## Print the required output in given format\n",
    "n=int(input())\n",
    "i=1\n",
    "while i<=n:\n",
    "    j=1\n",
    "    strp=ord('A') + i-1\n",
    "    while j<=i:\n",
    "        charp=chr(strp + j-1)\n",
    "        print(charp,end=\"\")\n",
    "        j=j+1\n",
    "    print()\n",
    "    i=i+1"
   ]
  },
  {
   "cell_type": "markdown",
   "metadata": {},
   "source": [
    "## 9. Write a program to print the pattern given below.\n",
    "\n",
    "For N = 4 the program should print below pattern :-\n",
    "\n",
    "D <br>\n",
    "CD <br>\n",
    "BCD <br>\n",
    "ABCD <br>\n",
    "\n",
    "##### Input format\n",
    "Integer N(no of rows)\n",
    "\n",
    "##### Output format\n",
    "Pattern in N lines"
   ]
  },
  {
   "cell_type": "code",
   "execution_count": 18,
   "metadata": {},
   "outputs": [
    {
     "name": "stdout",
     "output_type": "stream",
     "text": [
      "4\n",
      "D\n",
      "CD\n",
      "BCD\n",
      "ABCD\n"
     ]
    }
   ],
   "source": [
    "## Read input as specified in the question.\n",
    "## Print output as specified in the question.\n",
    "n=int(input())\n",
    "i=1\n",
    "while i<=n:\n",
    "    j=1\n",
    "    strt=ord('A')+n-i\n",
    "    while j<=i:\n",
    "        strp=chr(strt + j - 1)\n",
    "        print(strp,end=\"\")\n",
    "        j=j+1\n",
    "    print()\n",
    "    i=i+1"
   ]
  },
  {
   "cell_type": "markdown",
   "metadata": {},
   "source": [
    "## 10. Write a program to print the pattern given below.\n",
    "\n",
    "For N = 4 the program should print below pattern :-\n",
    "\n",
    "A <br>\n",
    "A B <br>\n",
    "A B C <br>\n",
    "A B C D <br>\n",
    "\n",
    "##### Input format\n",
    "Integer N(no of rows)\n",
    "\n",
    "##### Output format\n",
    "Pattern in N lines"
   ]
  },
  {
   "cell_type": "code",
   "execution_count": 1,
   "metadata": {},
   "outputs": [
    {
     "name": "stdout",
     "output_type": "stream",
     "text": [
      "5\n",
      "A \n",
      "A B \n",
      "A B C \n",
      "A B C D \n",
      "A B C D E \n"
     ]
    }
   ],
   "source": [
    "n=int(input())\n",
    "i=0\n",
    "while i<n:\n",
    "    j=0\n",
    "    while j<=i:\n",
    "        print(chr(ord(\"A\")+j),end=\" \")\n",
    "        j=j+1\n",
    "    print()\n",
    "    i=i+1"
   ]
  },
  {
   "cell_type": "markdown",
   "metadata": {},
   "source": [
    "## 11. Write a program to print the pattern given below.\n",
    "\n",
    "For N = 4 the program should print below pattern :-\n",
    "\n",
    "A B C D <br>\n",
    "A B C <br>\n",
    "A B <br>\n",
    "A <br>\n",
    "\n",
    "##### Input format\n",
    "Integer N(no of rows)\n",
    "\n",
    "##### Output format\n",
    "Pattern in N lines"
   ]
  },
  {
   "cell_type": "code",
   "execution_count": 2,
   "metadata": {},
   "outputs": [
    {
     "name": "stdout",
     "output_type": "stream",
     "text": [
      "5\n",
      "A B C D E \n",
      "A B C D \n",
      "A B C \n",
      "A B \n",
      "A \n"
     ]
    }
   ],
   "source": [
    "n=int(input())\n",
    "i=0\n",
    "while i<n:\n",
    "    j=0\n",
    "    while j<n-i:\n",
    "        print(chr(ord(\"A\")+j),end=\" \")\n",
    "        j=j+1\n",
    "    print()\n",
    "    i=i+1"
   ]
  },
  {
   "cell_type": "markdown",
   "metadata": {},
   "source": [
    "## 12. Write a program to print the pattern given below.\n",
    "\n",
    "For N = 4 the program should print below pattern :-\n",
    "\n",
    "1 <br>\n",
    "1 1 <br>\n",
    "2 0 2 <br>\n",
    "3 0 0 3 <br>\n",
    "\n",
    "##### Input format\n",
    "Integer N(no of rows)\n",
    "\n",
    "##### Output format\n",
    "Pattern in N lines"
   ]
  },
  {
   "cell_type": "code",
   "execution_count": 3,
   "metadata": {},
   "outputs": [
    {
     "name": "stdout",
     "output_type": "stream",
     "text": [
      "4\n",
      "1\n",
      "1 1 \n",
      "2 0 2 \n",
      "3 0 0 3 \n"
     ]
    }
   ],
   "source": [
    "n=int(input())\n",
    "i=0\n",
    "while i<n:\n",
    "    if i==0:\n",
    "            print(1,end=\"\")\n",
    "            j+=1\n",
    "    else:\n",
    "        \n",
    "        j=0\n",
    "        while j<=i:\n",
    "            \n",
    "            if j==0 or j==i:\n",
    "                print(i,end=\" \")\n",
    "                j=j+1\n",
    "            else:\n",
    "                print(0,end=\" \")\n",
    "                j=j+1\n",
    "    print()\n",
    "    i=i+1"
   ]
  },
  {
   "cell_type": "markdown",
   "metadata": {},
   "source": [
    "## 13. Write a program to print the pattern given below.\n",
    "\n",
    "For N = 4 the program should print below pattern :-\n",
    "\n",
    "A <br>\n",
    "B B <br>\n",
    "C C C <br>\n",
    "D D D D <br>\n",
    "\n",
    "##### Input format\n",
    "Integer N(no of rows)\n",
    "\n",
    "##### Output format\n",
    "Pattern in N lines"
   ]
  },
  {
   "cell_type": "code",
   "execution_count": 4,
   "metadata": {},
   "outputs": [
    {
     "name": "stdout",
     "output_type": "stream",
     "text": [
      "4\n",
      "A \n",
      "B B \n",
      "C C C \n",
      "D D D D \n"
     ]
    }
   ],
   "source": [
    "n=int(input())\n",
    "i=0\n",
    "while i<n:\n",
    "    j=0\n",
    "    while j<=i:\n",
    "        print(chr(ord(\"A\")+i),end=\" \")\n",
    "        j=j+1\n",
    "    print()\n",
    "    i=i+1"
   ]
  },
  {
   "cell_type": "markdown",
   "metadata": {},
   "source": [
    "## 14. Write a program to print the pattern given below.\n",
    "\n",
    "For N = 4 the program should print below pattern :-\n",
    "\n",
    "4 5 5 5 <br>\n",
    "3 4 5 5 <br>\n",
    "2 3 4 5 <br>\n",
    "1 2 3 4 <br>\n",
    "\n",
    "##### Input format\n",
    "Integer N(no of rows)\n",
    "\n",
    "##### Output format\n",
    "Pattern in N lines"
   ]
  },
  {
   "cell_type": "code",
   "execution_count": 7,
   "metadata": {},
   "outputs": [
    {
     "name": "stdout",
     "output_type": "stream",
     "text": [
      "5\n",
      "5 6 6 6 6 \n",
      "4 5 6 6 6 \n",
      "3 4 5 6 6 \n",
      "2 3 4 5 6 \n",
      "1 2 3 4 5 \n"
     ]
    }
   ],
   "source": [
    "n=int(input())\n",
    "i=0\n",
    "while i<n:\n",
    "    j=0\n",
    "    t=n-i\n",
    "    while j<=i:\n",
    "        print(t,end=\" \")\n",
    "        t=t+1\n",
    "        j=j+1\n",
    "    k=1\n",
    "    while k<n-i:\n",
    "        print(n+1,end=\" \")\n",
    "        k+=1\n",
    "    print()\n",
    "    i=i+1"
   ]
  },
  {
   "cell_type": "markdown",
   "metadata": {},
   "source": [
    "## 15. Write a program to print the pattern given below.\n",
    "\n",
    "For N = 4 the program should print below pattern :-\n",
    "\n",
    "1 2 3 4 4 3 2 1 <br>\n",
    "1 2 3 * * 3 2 1 <br>\n",
    "1 2 * * * * 2 1 <br>\n",
    "1 * * * * * * 1 <br>\n",
    "\n",
    "##### Input format\n",
    "Integer N(no of rows)\n",
    "\n",
    "##### Output format\n",
    "Pattern in N lines"
   ]
  },
  {
   "cell_type": "code",
   "execution_count": 23,
   "metadata": {},
   "outputs": [
    {
     "name": "stdout",
     "output_type": "stream",
     "text": [
      "4\n",
      "1 2 3 4 4 3 2 1 \n",
      "1 2 3 * * 3 2 1 \n",
      "1 2 * * * * 2 1 \n",
      "1 * * * * * * 1 \n"
     ]
    }
   ],
   "source": [
    "n=int(input())\n",
    "i=0\n",
    "while i<n:\n",
    "    j=0\n",
    "    while j<n-i:\n",
    "        print(j+1,end=\" \")\n",
    "        j+=1\n",
    "    k=0\n",
    "    while k<i:\n",
    "        print(\"*\",end=\" \")\n",
    "        k=k+1\n",
    "    m=0\n",
    "    while m<i:\n",
    "        print(\"*\",end=\" \")\n",
    "        m=m+1\n",
    "    l=0\n",
    "    t=n-i\n",
    "    while l<n-i:\n",
    "        print(t,end=\" \")\n",
    "        t-=1\n",
    "        l+=1\n",
    "    print()\n",
    "    i+=1"
   ]
  },
  {
   "cell_type": "markdown",
   "metadata": {},
   "source": [
    "## 16. Write a program to print the pattern given below.\n",
    "\n",
    "For N = 4 the program should print below pattern <br>\n",
    "NOTE :- (There is space between each start printed) :-\n",
    "\n",
    "       *  \n",
    "      ***    \n",
    "     *****  \n",
    "    ******* \n",
    "\n",
    "##### Input format\n",
    "Integer N(no of rows)\n",
    "\n",
    "##### Output format\n",
    "Pattern in N lines"
   ]
  },
  {
   "cell_type": "code",
   "execution_count": 8,
   "metadata": {
    "scrolled": true
   },
   "outputs": [
    {
     "name": "stdout",
     "output_type": "stream",
     "text": [
      "4\n",
      "      * \n",
      "    * * * \n",
      "  * * * * * \n",
      "* * * * * * * \n"
     ]
    }
   ],
   "source": [
    "n=int(input())\n",
    "i=0\n",
    "while i<n:\n",
    "    j=1\n",
    "    while j<n-i:\n",
    "        print(\" \",end=\" \")\n",
    "        j+=1\n",
    "    k=0\n",
    "    while k<=i:\n",
    "        print(\"*\",end=\" \")\n",
    "        k=k+1\n",
    "    m=0\n",
    "    while m<=i-1:\n",
    "        print(\"*\",end=\" \")\n",
    "        m=m+1\n",
    "    print()\n",
    "    i+=1"
   ]
  },
  {
   "cell_type": "markdown",
   "metadata": {},
   "source": []
  }
 ],
 "metadata": {
  "kernelspec": {
   "display_name": "Python 3",
   "language": "python",
   "name": "python3"
  },
  "language_info": {
   "codemirror_mode": {
    "name": "ipython",
    "version": 3
   },
   "file_extension": ".py",
   "mimetype": "text/x-python",
   "name": "python",
   "nbconvert_exporter": "python",
   "pygments_lexer": "ipython3",
   "version": "3.7.6"
  }
 },
 "nbformat": 4,
 "nbformat_minor": 4
}
